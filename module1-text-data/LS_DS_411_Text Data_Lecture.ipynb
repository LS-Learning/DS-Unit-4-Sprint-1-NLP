{
 "cells": [
  {
   "cell_type": "markdown",
   "metadata": {
    "toc-hr-collapsed": false
   },
   "source": [
    "Lambda School Data Science\n",
    "\n",
    "*Unit 4, Sprint 1, Module 1*\n",
    "\n",
    "---\n",
    "<h1 id=\"moduleTitle\"> Natural Language Processing Introduction (Prepare)</h1>\n",
    "\n",
    "\"Natural\" meaning - not computer languages but spoken/written human languages. The hard thing about NLP is that human languages are far less structured or consistent than computer languages. This is perhaps the largest source of difficulty when trying to get computers to \"understand\" human languages. How do you get a machine to understand sarcasm, and irony, and synonyms, connotation, denotation, nuance, and tone of voice --all without it having lived a lifetime of experience for context? If you think about it, our human brains have been exposed to quite a lot of training data to help us interpret languages, and even then we misunderstand each other pretty frequently. \n",
    "    \n",
    "\n",
    "<h2 id='moduleObjectives'>Learning Objectives</h2>\n",
    "\n",
    "By the end of end of this module, a student should be able to:\n",
    "* <a href=\"#p1\">Objective 1</a>: Tokenze text\n",
    "* <a href=\"#p1\">Objective 2</a>: Remove stop words from text\n",
    "* <a href=\"#p3\">Objective 3</a>: Perform stemming and lemmatization on tokens\n",
    "\n",
    "## Conda Environments\n",
    "\n",
    "You will be completing each module this sprint on your machine. We will be using conda environments to manage the packages and their dependencies for this sprint's content. In a classroom setting, instructors typically abstract away environment for you. However, environment management is an important professional data science skill. We showed you how to manage environments using pipvirtual env during Unit 3, but in this sprint, we will introduce an environment management tool common in the data science community: \n",
    "\n",
    "> __conda__: Package, dependency and environment management for any language—Python, R, Ruby, Lua, Scala, Java, JavaScript, C/ C++, FORTRAN, and more.\n",
    "\n",
    "The easiest way to install conda on your machine is via the [Anaconda Distribution](https://www.anaconda.com/distribution/) of Python & R. Once you have conda installed, read [\"A Guide to Conda Environments\"](https://towardsdatascience.com/a-guide-to-conda-environments-bc6180fc533). This article will provide an introduce into some of the conda basics. If you need some additional help getting started, the official [\"Setting started with conda\"](https://conda.io/projects/conda/en/latest/user-guide/getting-started.html) guide will point you in the right direction. \n",
    "\n",
    "To get the sprint environment setup: \n",
    "\n",
    "1. Open your command line tool (Terminal for MacOS, Anaconda Prompt for Windows)\n",
    "2. Navigate to the folder with this sprint's content. There should be both  `environment_mac.yml` and a `environment_windows.yml`. \n",
    "3. Run `conda env create -n U4-S1-NLP -f /path/to/environment_mac.yml` => You should replace the operating system if you're a windows user. You can also rename the environment if you would like. Once the command completes, your conda environment should be ready. \n",
    "4. We are going to also add an Ipython Kernel reference to your conda environment, so we can use it from JupyterLab. You will need to 'activate' the conda environment: `source activate U4-S1-NLP` on Terminal or `conda activate U4-S1-NLP` on Anaconda Prompt.\n",
    "5. Next run `python -m ipykernel install --user --name U4-S1-NLP --display-name \"U4-S1-NLP (Python3)\"` => This will add a json object to an ipython file, so JupterLab will know that it can use this isolated instance of Python. :) \n",
    "6. Deactivate your conda environment and launch JupyterLab. You should know see \"U4-S1-NLP (Python3)\" in the list of available kernels on launch screen. \n"
   ]
  },
  {
   "cell_type": "markdown",
   "metadata": {
    "toc-hr-collapsed": false
   },
   "source": [
    "# Tokenze Text (Learn)\n",
    "<a id=\"p1\"></a>"
   ]
  },
  {
   "cell_type": "markdown",
   "metadata": {
    "toc-hr-collapsed": true
   },
   "source": [
    "## Overview\n",
    "\n",
    "> **token**: an instance of a sequence of characters in some particular document that are grouped together as a useful semantic unit for processing\n",
    "\n",
    "> [_*Introduction to Information Retrival*_](https://nlp.stanford.edu/IR-book/)\n",
    "\n",
    "\n",
    "### The attributes of good tokens\n",
    "\n",
    "* Should be stored in an iterable datastructure\n",
    "  - Allows analysis of the \"semantic unit\"\n",
    "* Should be all the same case\n",
    "  - Reduces the complexity of our data\n",
    "* Should be free of non-alphanumeric characters (ie punctuation, whitespace)\n",
    "  - Removes information that is probably not relevant to the analysis"
   ]
  },
  {
   "cell_type": "markdown",
   "metadata": {},
   "source": [
    "Let's pretend we are trying analyze the random sequence here. Question: what is the most common character in this sequence?"
   ]
  },
  {
   "cell_type": "code",
   "execution_count": 27,
   "metadata": {},
   "outputs": [],
   "source": [
    "random_seq = \"AABAAFBBBBCGCDDEEEFCFFDFFAFFZFGGGGHEAFJAAZBBFCZ\""
   ]
  },
  {
   "cell_type": "markdown",
   "metadata": {},
   "source": [
    "A useful unit of analysis for us is going to be a letter or character"
   ]
  },
  {
   "cell_type": "code",
   "execution_count": 28,
   "metadata": {},
   "outputs": [
    {
     "name": "stdout",
     "output_type": "stream",
     "text": [
      "['A', 'A', 'B', 'A', 'A', 'F', 'B', 'B', 'B', 'B', 'C', 'G', 'C', 'D', 'D', 'E', 'E', 'E', 'F', 'C', 'F', 'F', 'D', 'F', 'F', 'A', 'F', 'F', 'Z', 'F', 'G', 'G', 'G', 'G', 'H', 'E', 'A', 'F', 'J', 'A', 'A', 'Z', 'B', 'B', 'F', 'C', 'Z']\n"
     ]
    }
   ],
   "source": [
    "tokens = list(random_seq)\n",
    "print(tokens)"
   ]
  },
  {
   "cell_type": "markdown",
   "metadata": {},
   "source": [
    "Our tokens are already \"good\": in an iterable datastructure, all the same case, and free of noise characters (punctionation, whitespace), so we can jump straight into analysis."
   ]
  },
  {
   "cell_type": "code",
   "execution_count": 29,
   "metadata": {},
   "outputs": [
    {
     "data": {
      "image/png": "[encoded data removed]",
      "text/plain": [
       "<Figure size 432x288 with 1 Axes>"
      ]
     },
     "metadata": {
      "needs_background": "light"
     },
     "output_type": "display_data"
    }
   ],
   "source": [
    "import seaborn as sns\n",
    "\n",
    "sns.countplot(tokens);"
   ]
  },
  {
   "cell_type": "markdown",
   "metadata": {},
   "source": [
    "The most common character in our sequence is  \"F\". We can't just glance at the the sequence to know which character is the most common. We (humans) struggle to subitize complex data (like random text sequences).\n",
    "\n",
    "> __Subitize__ is the ability to tell the number of objects in a set, quickly, without counting.  \n",
    "\n",
    "We need to chunk the data into countable pieces \"tokens\" for us to analyze them. This inability subitize text data is the motivation for our discussion today."
   ]
  },
  {
   "cell_type": "markdown",
   "metadata": {
    "toc-hr-collapsed": true
   },
   "source": [
    "### Tokenizing with Pure Python"
   ]
  },
  {
   "cell_type": "code",
   "execution_count": 30,
   "metadata": {},
   "outputs": [],
   "source": [
    "sample = \"Friends, Romans, countrymen, lend me your ears;\""
   ]
  },
  {
   "cell_type": "markdown",
   "metadata": {},
   "source": [
    "##### Iterable Tokens\n",
    "\n",
    "A string object in Python is already iterable. However, the item you iterate over is a character not a token:\n",
    "\n",
    "```\n",
    "from time import sleep\n",
    "for num, character in enumerate(sample):\n",
    "    sleep(.5)\n",
    "    print(f\"Char {num} - {character}\", end=\"\\r\")\n",
    "```\n",
    "\n",
    "If we instead care about the words in our sample (our semantic unit), we can use the string method `.split()` to seperate the whitespace and create iterable units. :)"
   ]
  },
  {
   "cell_type": "code",
   "execution_count": 31,
   "metadata": {},
   "outputs": [
    {
     "data": {
      "text/plain": [
       "['Friends', 'Romans', 'countrymen', 'lend me your ears;']"
      ]
     },
     "execution_count": 31,
     "metadata": {},
     "output_type": "execute_result"
    }
   ],
   "source": [
    "sample.split(\", \")"
   ]
  },
  {
   "cell_type": "markdown",
   "metadata": {},
   "source": [
    "##### Case Normalization\n",
    "A common data cleaning data cleaning task with token is to standardize or normalize the case. Normalizing case reduces the chance that you have duplicate records for things which have practically the same semantic meaning. You can use either the `.lower()` or `.upper()` string methods to normalize case.\n",
    "\n",
    "Consider the following example: "
   ]
  },
  {
   "cell_type": "code",
   "execution_count": 32,
   "metadata": {},
   "outputs": [
    {
     "data": {
      "text/plain": [
       "Amazon          16153\n",
       "Amazonbasics    12169\n",
       "AmazonBasics       10\n",
       "Name: brand, dtype: int64"
      ]
     },
     "execution_count": 32,
     "metadata": {},
     "output_type": "execute_result"
    }
   ],
   "source": [
    "import pandas as pd\n",
    "df = pd.read_csv('./data/Datafiniti_Amazon_Consumer_Reviews_of_Amazon_Products_May19.csv')\n",
    "# Notice anything odd here? \n",
    "df['brand'].value_counts()"
   ]
  },
  {
   "cell_type": "code",
   "execution_count": 33,
   "metadata": {},
   "outputs": [
    {
     "data": {
      "text/plain": [
       "amazon          16153\n",
       "amazonbasics    12179\n",
       "Name: brand, dtype: int64"
      ]
     },
     "execution_count": 33,
     "metadata": {},
     "output_type": "execute_result"
    }
   ],
   "source": [
    "# Much cleaner\n",
    "df['brand'] = df['brand'].apply(lambda x: x.lower())\n",
    "df['brand'].value_counts()"
   ]
  },
  {
   "cell_type": "markdown",
   "metadata": {},
   "source": [
    "##### Keep Only Alphanumeric Characters\n",
    "Yes, we only want letters and numbers. Everything else is probably noise: punctionation, whitespace, and other notation. This one is little bit more complicatd than our previous example. Here we will have to import the base package `re` (regular expressions). \n",
    "\n",
    "The only regex expression pattern you need for this is `'[^a-zA-Z ^0-9]'` which keeps lower case letters, upper case letters, spaces, and numbers."
   ]
  },
  {
   "cell_type": "code",
   "execution_count": 34,
   "metadata": {},
   "outputs": [
    {
     "name": "stdout",
     "output_type": "stream",
     "text": [
      "Friends, Romans, countrymen, lend me your ears; 911\n"
     ]
    }
   ],
   "source": [
    "sample = sample+\" 911\"\n",
    "print(sample)"
   ]
  },
  {
   "cell_type": "code",
   "execution_count": 35,
   "metadata": {},
   "outputs": [
    {
     "data": {
      "text/plain": [
       "'Friends Romans countrymen lend me your ears 911'"
      ]
     },
     "execution_count": 35,
     "metadata": {},
     "output_type": "execute_result"
    }
   ],
   "source": [
    "import re\n",
    "\n",
    "re.sub(r'[^a-zA-Z ^0-9]', '', sample)"
   ]
  },
  {
   "cell_type": "markdown",
   "metadata": {},
   "source": [
    "#### Two Minute Challenge \n",
    "- Complete the function `tokenize` below\n",
    "- Combine the methods which we discussed above to clean text before we analyze it\n",
    "- You can put the methods in any order you want"
   ]
  },
  {
   "cell_type": "code",
   "execution_count": 36,
   "metadata": {},
   "outputs": [],
   "source": [
    "def tokenize(text):\n",
    "    \"\"\"Parses a string into a list of semantic units (words)\n",
    "\n",
    "    Args:\n",
    "        text (str): The string that the function will tokenize.\n",
    "\n",
    "    Returns:\n",
    "        list: tokens parsed out by the mechanics of your choice\n",
    "    \"\"\"\n",
    "    \n",
    "    tokens = re.sub(r'[^a-zA-Z ^0-9]', '', text)\n",
    "    tokens = tokens.lower().split()\n",
    "    \n",
    "    return tokens"
   ]
  },
  {
   "cell_type": "markdown",
   "metadata": {
    "toc-hr-collapsed": true
   },
   "source": [
    "## Follow Along\n",
    "\n",
    "Our inability to analyze text data becomes quickly amphilfied in business context. Consider the following: \n",
    "\n",
    "A business which sells widgets also collects customer reviews of those widgets. When the business first started out, they had a human read the reviews to look for patterns. Now, the business sells thousands of widgets a month. The human readers can't keep up with the pace of reviews to synthesize an accurate analysis. They need some science to help them analyze their data.\n",
    "\n",
    "Now, let's pretend that business is Amazon, and the widgets are Amazon products such as the Alexa, Echo, or other AmazonBasics products. Let's analyze their reviews with some counts. This dataset is available on [Kaggle](https://www.kaggle.com/datafiniti/consumer-reviews-of-amazon-products/)."
   ]
  },
  {
   "cell_type": "code",
   "execution_count": 37,
   "metadata": {},
   "outputs": [],
   "source": [
    "\"\"\"\n",
    "Import Statements\n",
    "\"\"\"\n",
    "\n",
    "# Base\n",
    "from collections import Counter\n",
    "import re\n",
    " \n",
    "import pandas as pd\n",
    "\n",
    "# Plotting\n",
    "import squarify\n",
    "import matplotlib.pyplot as plt\n",
    "import seaborn as sns\n",
    "\n",
    "# NLP Libraries\n",
    "import spacy\n",
    "from spacy.tokenizer import Tokenizer\n",
    "from nltk.stem import PorterStemmer\n",
    "\n",
    "nlp = spacy.load(\"en_core_web_sm\")"
   ]
  },
  {
   "cell_type": "code",
   "execution_count": 38,
   "metadata": {},
   "outputs": [],
   "source": [
    "df = pd.read_csv('./data/Datafiniti_Amazon_Consumer_Reviews_of_Amazon_Products_May19.csv')"
   ]
  },
  {
   "cell_type": "code",
   "execution_count": 39,
   "metadata": {},
   "outputs": [
    {
     "data": {
      "text/html": [
       "<div>\n",
       "<style scoped>\n",
       "    .dataframe tbody tr th:only-of-type {\n",
       "        vertical-align: middle;\n",
       "    }\n",
       "\n",
       "    .dataframe tbody tr th {\n",
       "        vertical-align: top;\n",
       "    }\n",
       "\n",
       "    .dataframe thead th {\n",
       "        text-align: right;\n",
       "    }\n",
       "</style>\n",
       "<table border=\"1\" class=\"dataframe\">\n",
       "  <thead>\n",
       "    <tr style=\"text-align: right;\">\n",
       "      <th></th>\n",
       "      <th>id</th>\n",
       "      <th>dateAdded</th>\n",
       "      <th>dateUpdated</th>\n",
       "      <th>name</th>\n",
       "      <th>asins</th>\n",
       "      <th>brand</th>\n",
       "      <th>categories</th>\n",
       "      <th>primaryCategories</th>\n",
       "      <th>imageURLs</th>\n",
       "      <th>keys</th>\n",
       "      <th>...</th>\n",
       "      <th>reviews.didPurchase</th>\n",
       "      <th>reviews.doRecommend</th>\n",
       "      <th>reviews.id</th>\n",
       "      <th>reviews.numHelpful</th>\n",
       "      <th>reviews.rating</th>\n",
       "      <th>reviews.sourceURLs</th>\n",
       "      <th>reviews.text</th>\n",
       "      <th>reviews.title</th>\n",
       "      <th>reviews.username</th>\n",
       "      <th>sourceURLs</th>\n",
       "    </tr>\n",
       "  </thead>\n",
       "  <tbody>\n",
       "    <tr>\n",
       "      <th>0</th>\n",
       "      <td>AVpgNzjwLJeJML43Kpxn</td>\n",
       "      <td>2015-10-30T08:59:32Z</td>\n",
       "      <td>2019-04-25T09:08:16Z</td>\n",
       "      <td>AmazonBasics AAA Performance Alkaline Batterie...</td>\n",
       "      <td>B00QWO9P0O,B00LH3DMUO</td>\n",
       "      <td>Amazonbasics</td>\n",
       "      <td>AA,AAA,Health,Electronics,Health &amp; Household,C...</td>\n",
       "      <td>Health &amp; Beauty</td>\n",
       "      <td>https://images-na.ssl-images-amazon.com/images...</td>\n",
       "      <td>amazonbasics/hl002619,amazonbasicsaaaperforman...</td>\n",
       "      <td>...</td>\n",
       "      <td>NaN</td>\n",
       "      <td>NaN</td>\n",
       "      <td>NaN</td>\n",
       "      <td>NaN</td>\n",
       "      <td>3</td>\n",
       "      <td>https://www.amazon.com/product-reviews/B00QWO9...</td>\n",
       "      <td>I order 3 of them and one of the item is bad q...</td>\n",
       "      <td>... 3 of them and one of the item is bad quali...</td>\n",
       "      <td>Byger yang</td>\n",
       "      <td>https://www.barcodable.com/upc/841710106442,ht...</td>\n",
       "    </tr>\n",
       "    <tr>\n",
       "      <th>1</th>\n",
       "      <td>AVpgNzjwLJeJML43Kpxn</td>\n",
       "      <td>2015-10-30T08:59:32Z</td>\n",
       "      <td>2019-04-25T09:08:16Z</td>\n",
       "      <td>AmazonBasics AAA Performance Alkaline Batterie...</td>\n",
       "      <td>B00QWO9P0O,B00LH3DMUO</td>\n",
       "      <td>Amazonbasics</td>\n",
       "      <td>AA,AAA,Health,Electronics,Health &amp; Household,C...</td>\n",
       "      <td>Health &amp; Beauty</td>\n",
       "      <td>https://images-na.ssl-images-amazon.com/images...</td>\n",
       "      <td>amazonbasics/hl002619,amazonbasicsaaaperforman...</td>\n",
       "      <td>...</td>\n",
       "      <td>NaN</td>\n",
       "      <td>NaN</td>\n",
       "      <td>NaN</td>\n",
       "      <td>NaN</td>\n",
       "      <td>4</td>\n",
       "      <td>https://www.amazon.com/product-reviews/B00QWO9...</td>\n",
       "      <td>Bulk is always the less expensive way to go fo...</td>\n",
       "      <td>... always the less expensive way to go for pr...</td>\n",
       "      <td>ByMG</td>\n",
       "      <td>https://www.barcodable.com/upc/841710106442,ht...</td>\n",
       "    </tr>\n",
       "  </tbody>\n",
       "</table>\n",
       "<p>2 rows × 24 columns</p>\n",
       "</div>"
      ],
      "text/plain": [
       "                     id             dateAdded           dateUpdated  \\\n",
       "0  AVpgNzjwLJeJML43Kpxn  2015-10-30T08:59:32Z  2019-04-25T09:08:16Z   \n",
       "1  AVpgNzjwLJeJML43Kpxn  2015-10-30T08:59:32Z  2019-04-25T09:08:16Z   \n",
       "\n",
       "                                                name                  asins  \\\n",
       "0  AmazonBasics AAA Performance Alkaline Batterie...  B00QWO9P0O,B00LH3DMUO   \n",
       "1  AmazonBasics AAA Performance Alkaline Batterie...  B00QWO9P0O,B00LH3DMUO   \n",
       "\n",
       "          brand                                         categories  \\\n",
       "0  Amazonbasics  AA,AAA,Health,Electronics,Health & Household,C...   \n",
       "1  Amazonbasics  AA,AAA,Health,Electronics,Health & Household,C...   \n",
       "\n",
       "  primaryCategories                                          imageURLs  \\\n",
       "0   Health & Beauty  https://images-na.ssl-images-amazon.com/images...   \n",
       "1   Health & Beauty  https://images-na.ssl-images-amazon.com/images...   \n",
       "\n",
       "                                                keys  ... reviews.didPurchase  \\\n",
       "0  amazonbasics/hl002619,amazonbasicsaaaperforman...  ...                 NaN   \n",
       "1  amazonbasics/hl002619,amazonbasicsaaaperforman...  ...                 NaN   \n",
       "\n",
       "  reviews.doRecommend reviews.id reviews.numHelpful reviews.rating  \\\n",
       "0                 NaN        NaN                NaN              3   \n",
       "1                 NaN        NaN                NaN              4   \n",
       "\n",
       "                                  reviews.sourceURLs  \\\n",
       "0  https://www.amazon.com/product-reviews/B00QWO9...   \n",
       "1  https://www.amazon.com/product-reviews/B00QWO9...   \n",
       "\n",
       "                                        reviews.text  \\\n",
       "0  I order 3 of them and one of the item is bad q...   \n",
       "1  Bulk is always the less expensive way to go fo...   \n",
       "\n",
       "                                       reviews.title  reviews.username  \\\n",
       "0  ... 3 of them and one of the item is bad quali...        Byger yang   \n",
       "1  ... always the less expensive way to go for pr...              ByMG   \n",
       "\n",
       "                                          sourceURLs  \n",
       "0  https://www.barcodable.com/upc/841710106442,ht...  \n",
       "1  https://www.barcodable.com/upc/841710106442,ht...  \n",
       "\n",
       "[2 rows x 24 columns]"
      ]
     },
     "execution_count": 39,
     "metadata": {},
     "output_type": "execute_result"
    }
   ],
   "source": [
    "df.head(2)"
   ]
  },
  {
   "cell_type": "code",
   "execution_count": 40,
   "metadata": {},
   "outputs": [
    {
     "data": {
      "text/plain": [
       "good                0.002118\n",
       "great               0.001729\n",
       "Good                0.001482\n",
       "Great               0.001341\n",
       "ok                  0.001165\n",
       "Great price         0.001059\n",
       "Excellent           0.000988\n",
       "great price         0.000988\n",
       "Great value         0.000953\n",
       "good price          0.000812\n",
       "great value         0.000777\n",
       "Great price!        0.000635\n",
       "good value          0.000600\n",
       "good deal           0.000565\n",
       "Great value.        0.000565\n",
       "Good deal           0.000529\n",
       "Great deal          0.000529\n",
       "Great product       0.000529\n",
       "OK                  0.000529\n",
       "As expected         0.000529\n",
       "Good value          0.000494\n",
       "Good batteries      0.000494\n",
       "Good price          0.000459\n",
       "Great batteries.    0.000459\n",
       "great deal          0.000459\n",
       "So far so good      0.000459\n",
       "Great value!        0.000459\n",
       "Work great          0.000424\n",
       "Good buy            0.000424\n",
       "as expected         0.000388\n",
       "excellent           0.000388\n",
       "good batteries      0.000388\n",
       "Great deal!         0.000388\n",
       "As described        0.000388\n",
       "Good value.         0.000388\n",
       "Great buy           0.000388\n",
       "very good           0.000388\n",
       "Great price.        0.000388\n",
       "Great batteries     0.000388\n",
       "Great!              0.000388\n",
       "great batteries     0.000353\n",
       "Nice                0.000353\n",
       "Work great.         0.000353\n",
       "Ok                  0.000353\n",
       "good product        0.000353\n",
       "Perfect!            0.000353\n",
       "love it             0.000318\n",
       "Good price.         0.000318\n",
       "Great product.      0.000318\n",
       "Thanks              0.000318\n",
       "Name: reviews.text, dtype: float64"
      ]
     },
     "execution_count": 40,
     "metadata": {},
     "output_type": "execute_result"
    }
   ],
   "source": [
    "# How can we count the raw text?\n",
    "df['reviews.text'].value_counts(normalize=True)[:50]"
   ]
  },
  {
   "cell_type": "code",
   "execution_count": 41,
   "metadata": {},
   "outputs": [],
   "source": [
    "df['tokens'] = df['reviews.text'].apply(tokenize)"
   ]
  },
  {
   "cell_type": "code",
   "execution_count": 42,
   "metadata": {},
   "outputs": [
    {
     "data": {
      "text/plain": [
       "0    [i, order, 3, of, them, and, one, of, the, ite...\n",
       "1    [bulk, is, always, the, less, expensive, way, ...\n",
       "2    [well, they, are, not, duracell, but, for, the...\n",
       "3    [seem, to, work, as, well, as, name, brand, ba...\n",
       "4    [these, batteries, are, very, long, lasting, t...\n",
       "Name: tokens, dtype: object"
      ]
     },
     "execution_count": 42,
     "metadata": {},
     "output_type": "execute_result"
    }
   ],
   "source": [
    "df['tokens'].head()"
   ]
  },
  {
   "cell_type": "markdown",
   "metadata": {},
   "source": [
    "#### Analyzing Tokens"
   ]
  },
  {
   "cell_type": "code",
   "execution_count": 43,
   "metadata": {},
   "outputs": [
    {
     "data": {
      "text/plain": [
       "[('the', 28836),\n",
       " ('and', 22302),\n",
       " ('i', 20588),\n",
       " ('to', 19537),\n",
       " ('for', 17918),\n",
       " ('a', 17599),\n",
       " ('it', 16793),\n",
       " ('is', 11482),\n",
       " ('my', 11149),\n",
       " ('this', 10420)]"
      ]
     },
     "execution_count": 43,
     "metadata": {},
     "output_type": "execute_result"
    }
   ],
   "source": [
    "# Object from Base Python\n",
    "from collections import Counter\n",
    "\n",
    "# The object `Counter` takes an iterable, but you can instaniate an empty one and update it. \n",
    "word_counts = Counter()\n",
    "\n",
    "# Update it based on a split of each of our documents\n",
    "df['tokens'].apply(lambda x: word_counts.update(x))\n",
    "\n",
    "# Print out the 10 most common words\n",
    "word_counts.most_common(10)"
   ]
  },
  {
   "cell_type": "markdown",
   "metadata": {},
   "source": [
    "Let's create a fuction which takes a corpus of document and returns and dataframe of word counts for us to analyze."
   ]
  },
  {
   "cell_type": "code",
   "execution_count": 44,
   "metadata": {},
   "outputs": [],
   "source": [
    "def count(docs):\n",
    "\n",
    "        word_counts = Counter()\n",
    "        appears_in = Counter()\n",
    "        \n",
    "        total_docs = len(docs)\n",
    "\n",
    "        for doc in docs:\n",
    "            word_counts.update(doc)\n",
    "            appears_in.update(set(doc))\n",
    "\n",
    "        temp = zip(word_counts.keys(), word_counts.values())\n",
    "        \n",
    "        wc = pd.DataFrame(temp, columns = ['word', 'count'])\n",
    "\n",
    "        wc['rank'] = wc['count'].rank(method='first', ascending=False)\n",
    "        total = wc['count'].sum()\n",
    "\n",
    "        wc['pct_total'] = wc['count'].apply(lambda x: x / total)\n",
    "        \n",
    "        wc = wc.sort_values(by='rank')\n",
    "        wc['cul_pct_total'] = wc['pct_total'].cumsum()\n",
    "\n",
    "        t2 = zip(appears_in.keys(), appears_in.values())\n",
    "        ac = pd.DataFrame(t2, columns=['word', 'appears_in'])\n",
    "        wc = ac.merge(wc, on='word')\n",
    "\n",
    "        wc['appears_in_pct'] = wc['appears_in'].apply(lambda x: x / total_docs)\n",
    "        \n",
    "        return wc.sort_values(by='rank')"
   ]
  },
  {
   "cell_type": "code",
   "execution_count": 45,
   "metadata": {},
   "outputs": [],
   "source": [
    "# Use the Function\n",
    "wc = count(df['tokens'])"
   ]
  },
  {
   "cell_type": "code",
   "execution_count": 46,
   "metadata": {},
   "outputs": [
    {
     "data": {
      "text/html": [
       "<div>\n",
       "<style scoped>\n",
       "    .dataframe tbody tr th:only-of-type {\n",
       "        vertical-align: middle;\n",
       "    }\n",
       "\n",
       "    .dataframe tbody tr th {\n",
       "        vertical-align: top;\n",
       "    }\n",
       "\n",
       "    .dataframe thead th {\n",
       "        text-align: right;\n",
       "    }\n",
       "</style>\n",
       "<table border=\"1\" class=\"dataframe\">\n",
       "  <thead>\n",
       "    <tr style=\"text-align: right;\">\n",
       "      <th></th>\n",
       "      <th>word</th>\n",
       "      <th>appears_in</th>\n",
       "      <th>count</th>\n",
       "      <th>rank</th>\n",
       "      <th>pct_total</th>\n",
       "      <th>cul_pct_total</th>\n",
       "      <th>appears_in_pct</th>\n",
       "    </tr>\n",
       "  </thead>\n",
       "  <tbody>\n",
       "    <tr>\n",
       "      <th>15</th>\n",
       "      <td>the</td>\n",
       "      <td>13185</td>\n",
       "      <td>28836</td>\n",
       "      <td>1.0</td>\n",
       "      <td>0.039350</td>\n",
       "      <td>0.039350</td>\n",
       "      <td>0.465375</td>\n",
       "    </tr>\n",
       "    <tr>\n",
       "      <th>8</th>\n",
       "      <td>and</td>\n",
       "      <td>13731</td>\n",
       "      <td>22302</td>\n",
       "      <td>2.0</td>\n",
       "      <td>0.030434</td>\n",
       "      <td>0.069784</td>\n",
       "      <td>0.484646</td>\n",
       "    </tr>\n",
       "    <tr>\n",
       "      <th>16</th>\n",
       "      <td>i</td>\n",
       "      <td>10301</td>\n",
       "      <td>20588</td>\n",
       "      <td>3.0</td>\n",
       "      <td>0.028095</td>\n",
       "      <td>0.097879</td>\n",
       "      <td>0.363582</td>\n",
       "    </tr>\n",
       "    <tr>\n",
       "      <th>14</th>\n",
       "      <td>to</td>\n",
       "      <td>11312</td>\n",
       "      <td>19537</td>\n",
       "      <td>4.0</td>\n",
       "      <td>0.026661</td>\n",
       "      <td>0.124539</td>\n",
       "      <td>0.399266</td>\n",
       "    </tr>\n",
       "    <tr>\n",
       "      <th>28</th>\n",
       "      <td>for</td>\n",
       "      <td>12101</td>\n",
       "      <td>17918</td>\n",
       "      <td>5.0</td>\n",
       "      <td>0.024451</td>\n",
       "      <td>0.148990</td>\n",
       "      <td>0.427114</td>\n",
       "    </tr>\n",
       "  </tbody>\n",
       "</table>\n",
       "</div>"
      ],
      "text/plain": [
       "   word  appears_in  count  rank  pct_total  cul_pct_total  appears_in_pct\n",
       "15  the       13185  28836   1.0   0.039350       0.039350        0.465375\n",
       "8   and       13731  22302   2.0   0.030434       0.069784        0.484646\n",
       "16    i       10301  20588   3.0   0.028095       0.097879        0.363582\n",
       "14   to       11312  19537   4.0   0.026661       0.124539        0.399266\n",
       "28  for       12101  17918   5.0   0.024451       0.148990        0.427114"
      ]
     },
     "execution_count": 46,
     "metadata": {},
     "output_type": "execute_result"
    }
   ],
   "source": [
    "wc.head()"
   ]
  },
  {
   "cell_type": "code",
   "execution_count": 47,
   "metadata": {},
   "outputs": [
    {
     "data": {
      "image/png": "[encoded data removed]",
      "text/plain": [
       "<Figure size 432x288 with 1 Axes>"
      ]
     },
     "metadata": {
      "needs_background": "light"
     },
     "output_type": "display_data"
    }
   ],
   "source": [
    "import seaborn as sns\n",
    "\n",
    "# Cumulative Distribution Plot\n",
    "sns.lineplot(x='rank', y='cul_pct_total', data=wc);"
   ]
  },
  {
   "cell_type": "code",
   "execution_count": 48,
   "metadata": {},
   "outputs": [
    {
     "data": {
      "text/plain": [
       "0.3353465992363599"
      ]
     },
     "execution_count": 48,
     "metadata": {},
     "output_type": "execute_result"
    }
   ],
   "source": [
    "wc[wc['rank'] <= 20]['cul_pct_total'].max()"
   ]
  },
  {
   "cell_type": "code",
   "execution_count": 49,
   "metadata": {},
   "outputs": [
    {
     "data": {
      "image/png": "[encoded data removed]",
      "text/plain": [
       "<Figure size 432x288 with 1 Axes>"
      ]
     },
     "metadata": {
      "needs_background": "light"
     },
     "output_type": "display_data"
    }
   ],
   "source": [
    "import squarify\n",
    "import matplotlib.pyplot as plt\n",
    "\n",
    "wc_top20 = wc[wc['rank'] <= 20]\n",
    "\n",
    "squarify.plot(sizes=wc_top20['pct_total'], label=wc_top20['word'], alpha=.8 )\n",
    "plt.axis('off')\n",
    "plt.show()"
   ]
  },
  {
   "cell_type": "markdown",
   "metadata": {},
   "source": [
    "### Processing Raw Text with Spacy\n",
    "\n",
    "Spacy's datamodel for documents is unique among NLP libraries. Instead of storing the documents components repeatively in various datastructures, Spacy indexes components and simply stores the lookup informaiton. \n",
    "\n",
    "This is often why Spacy is considered to be more production grade than library like NLTK."
   ]
  },
  {
   "cell_type": "code",
   "execution_count": 50,
   "metadata": {},
   "outputs": [],
   "source": [
    "import spacy\n",
    "from spacy.tokenizer import Tokenizer\n",
    "\n",
    "nlp = spacy.load(\"en_core_web_sm\")\n",
    "\n",
    "# Tokenizer\n",
    "tokenizer = Tokenizer(nlp.vocab)"
   ]
  },
  {
   "cell_type": "code",
   "execution_count": 51,
   "metadata": {},
   "outputs": [
    {
     "data": {
      "text/plain": [
       "['Friends,', 'Romans,', 'countrymen,', 'lend', 'me', 'your', 'ears;', '911']"
      ]
     },
     "execution_count": 51,
     "metadata": {},
     "output_type": "execute_result"
    }
   ],
   "source": [
    "# Print out list of tokens\n",
    "[token.text for token in tokenizer(sample)]"
   ]
  },
  {
   "cell_type": "code",
   "execution_count": 52,
   "metadata": {},
   "outputs": [],
   "source": [
    "# Tokenizer Pipe\n",
    "\n",
    "tokens = []\n",
    "\n",
    "\"\"\" Make them tokens \"\"\"\n",
    "for doc in tokenizer.pipe(df['reviews.text'], batch_size=500):\n",
    "    doc_tokens = [token.text for token in doc]\n",
    "    tokens.append(doc_tokens)\n",
    "\n",
    "df['tokens'] = tokens"
   ]
  },
  {
   "cell_type": "code",
   "execution_count": 53,
   "metadata": {},
   "outputs": [
    {
     "data": {
      "text/plain": [
       "0    [I, order, 3, of, them, and, one, of, the, ite...\n",
       "1    [Bulk, is, always, the, less, expensive, way, ...\n",
       "2    [Well, they, are, not, Duracell, but, for, the...\n",
       "3    [Seem, to, work, as, well, as, name, brand, ba...\n",
       "4    [These, batteries, are, very, long, lasting, t...\n",
       "Name: tokens, dtype: object"
      ]
     },
     "execution_count": 53,
     "metadata": {},
     "output_type": "execute_result"
    }
   ],
   "source": [
    "df['tokens'].head()"
   ]
  },
  {
   "cell_type": "code",
   "execution_count": 54,
   "metadata": {},
   "outputs": [],
   "source": [
    "wc = count(df['tokens'])"
   ]
  },
  {
   "cell_type": "code",
   "execution_count": 55,
   "metadata": {},
   "outputs": [
    {
     "data": {
      "text/html": [
       "<div>\n",
       "<style scoped>\n",
       "    .dataframe tbody tr th:only-of-type {\n",
       "        vertical-align: middle;\n",
       "    }\n",
       "\n",
       "    .dataframe tbody tr th {\n",
       "        vertical-align: top;\n",
       "    }\n",
       "\n",
       "    .dataframe thead th {\n",
       "        text-align: right;\n",
       "    }\n",
       "</style>\n",
       "<table border=\"1\" class=\"dataframe\">\n",
       "  <thead>\n",
       "    <tr style=\"text-align: right;\">\n",
       "      <th></th>\n",
       "      <th>word</th>\n",
       "      <th>appears_in</th>\n",
       "      <th>count</th>\n",
       "      <th>rank</th>\n",
       "      <th>pct_total</th>\n",
       "      <th>cul_pct_total</th>\n",
       "      <th>appears_in_pct</th>\n",
       "    </tr>\n",
       "  </thead>\n",
       "  <tbody>\n",
       "    <tr>\n",
       "      <th>18</th>\n",
       "      <td>the</td>\n",
       "      <td>12316</td>\n",
       "      <td>25154</td>\n",
       "      <td>1.0</td>\n",
       "      <td>0.034219</td>\n",
       "      <td>0.034219</td>\n",
       "      <td>0.434703</td>\n",
       "    </tr>\n",
       "    <tr>\n",
       "      <th>10</th>\n",
       "      <td>and</td>\n",
       "      <td>13541</td>\n",
       "      <td>21850</td>\n",
       "      <td>2.0</td>\n",
       "      <td>0.029725</td>\n",
       "      <td>0.063944</td>\n",
       "      <td>0.477940</td>\n",
       "    </tr>\n",
       "    <tr>\n",
       "      <th>4</th>\n",
       "      <td>I</td>\n",
       "      <td>9913</td>\n",
       "      <td>19762</td>\n",
       "      <td>3.0</td>\n",
       "      <td>0.026884</td>\n",
       "      <td>0.090828</td>\n",
       "      <td>0.349887</td>\n",
       "    </tr>\n",
       "    <tr>\n",
       "      <th>17</th>\n",
       "      <td>to</td>\n",
       "      <td>11227</td>\n",
       "      <td>19324</td>\n",
       "      <td>4.0</td>\n",
       "      <td>0.026288</td>\n",
       "      <td>0.117117</td>\n",
       "      <td>0.396266</td>\n",
       "    </tr>\n",
       "    <tr>\n",
       "      <th>30</th>\n",
       "      <td>for</td>\n",
       "      <td>11790</td>\n",
       "      <td>17197</td>\n",
       "      <td>5.0</td>\n",
       "      <td>0.023395</td>\n",
       "      <td>0.140512</td>\n",
       "      <td>0.416137</td>\n",
       "    </tr>\n",
       "  </tbody>\n",
       "</table>\n",
       "</div>"
      ],
      "text/plain": [
       "   word  appears_in  count  rank  pct_total  cul_pct_total  appears_in_pct\n",
       "18  the       12316  25154   1.0   0.034219       0.034219        0.434703\n",
       "10  and       13541  21850   2.0   0.029725       0.063944        0.477940\n",
       "4     I        9913  19762   3.0   0.026884       0.090828        0.349887\n",
       "17   to       11227  19324   4.0   0.026288       0.117117        0.396266\n",
       "30  for       11790  17197   5.0   0.023395       0.140512        0.416137"
      ]
     },
     "execution_count": 55,
     "metadata": {},
     "output_type": "execute_result"
    }
   ],
   "source": [
    "wc.head()"
   ]
  },
  {
   "cell_type": "code",
   "execution_count": 56,
   "metadata": {},
   "outputs": [
    {
     "data": {
      "image/png": "[encoded data removed]",
      "text/plain": [
       "<Figure size 432x288 with 1 Axes>"
      ]
     },
     "metadata": {
      "needs_background": "light"
     },
     "output_type": "display_data"
    }
   ],
   "source": [
    "wc_top20 = wc[wc['rank'] <= 20]\n",
    "\n",
    "squarify.plot(sizes=wc_top20['pct_total'], label=wc_top20['word'], alpha=.8 )\n",
    "plt.axis('off')\n",
    "plt.show()"
   ]
  },
  {
   "cell_type": "markdown",
   "metadata": {
    "toc-hr-collapsed": true
   },
   "source": [
    "## Challenge\n",
    "\n",
    "In the module project, you will apply tokenization to another set of review data and produce visualizations of those tokens. "
   ]
  },
  {
   "cell_type": "markdown",
   "metadata": {
    "toc-hr-collapsed": false
   },
   "source": [
    "# Stop Words (Learn)\n",
    "<a id=\"p2\"></a>"
   ]
  },
  {
   "cell_type": "markdown",
   "metadata": {},
   "source": [
    "## Overview\n",
    "Section Agenda\n",
    "- What are they?\n",
    "- How do we get rid of them using Spacy?\n",
    "- Visualization\n",
    "- Libraries of Stop Words\n",
    "- Extending Stop Words\n",
    "- Statistical trimming\n",
    "\n",
    "If the visualizations above, you began to notice a pattern. Most of the words don't really add much to our undertanding of product reviews. Words such as \"I\", \"and\", \"of\", etc. have almost no semantic meaning to us. We call these useless words \"stop words,\" because we should 'stop' ourselves from including them in the analysis. \n",
    "\n",
    "Most NLP libraries have built in lists of stop words that common english words: conjunctions, articles, adverbs, pronouns, and common verbs. The best practice, however, is to extend/customize these standard english stopwords for your problem's domain. If I am studying political science, I may want to exclude the word \"politics\" from my analysis; it's so common it does not add to my understanding. "
   ]
  },
  {
   "cell_type": "markdown",
   "metadata": {
    "toc-hr-collapsed": true
   },
   "source": [
    "## Follow Along \n",
    "\n",
    "### Default Stop Words\n",
    "Let's take a look at the standard stop words that came with our spacy model:"
   ]
  },
  {
   "cell_type": "code",
   "execution_count": 57,
   "metadata": {},
   "outputs": [],
   "source": [
    "import spacy"
   ]
  },
  {
   "cell_type": "code",
   "execution_count": 62,
   "metadata": {},
   "outputs": [
    {
     "data": {
      "text/plain": [
       "{'a',\n",
       " 'about',\n",
       " 'above',\n",
       " 'across',\n",
       " 'after',\n",
       " 'afterwards',\n",
       " 'again',\n",
       " 'against',\n",
       " 'all',\n",
       " 'almost',\n",
       " 'alone',\n",
       " 'along',\n",
       " 'already',\n",
       " 'also',\n",
       " 'although',\n",
       " 'always',\n",
       " 'am',\n",
       " 'among',\n",
       " 'amongst',\n",
       " 'amount',\n",
       " 'an',\n",
       " 'and',\n",
       " 'another',\n",
       " 'any',\n",
       " 'anyhow',\n",
       " 'anyone',\n",
       " 'anything',\n",
       " 'anyway',\n",
       " 'anywhere',\n",
       " 'are',\n",
       " 'around',\n",
       " 'as',\n",
       " 'at',\n",
       " 'back',\n",
       " 'be',\n",
       " 'became',\n",
       " 'because',\n",
       " 'become',\n",
       " 'becomes',\n",
       " 'becoming',\n",
       " 'been',\n",
       " 'before',\n",
       " 'beforehand',\n",
       " 'behind',\n",
       " 'being',\n",
       " 'below',\n",
       " 'beside',\n",
       " 'besides',\n",
       " 'between',\n",
       " 'beyond',\n",
       " 'both',\n",
       " 'bottom',\n",
       " 'but',\n",
       " 'by',\n",
       " 'ca',\n",
       " 'call',\n",
       " 'can',\n",
       " 'cannot',\n",
       " 'could',\n",
       " 'did',\n",
       " 'do',\n",
       " 'does',\n",
       " 'doing',\n",
       " 'done',\n",
       " 'down',\n",
       " 'due',\n",
       " 'during',\n",
       " 'each',\n",
       " 'eight',\n",
       " 'either',\n",
       " 'eleven',\n",
       " 'else',\n",
       " 'elsewhere',\n",
       " 'empty',\n",
       " 'enough',\n",
       " 'even',\n",
       " 'ever',\n",
       " 'every',\n",
       " 'everyone',\n",
       " 'everything',\n",
       " 'everywhere',\n",
       " 'except',\n",
       " 'few',\n",
       " 'fifteen',\n",
       " 'fifty',\n",
       " 'first',\n",
       " 'five',\n",
       " 'for',\n",
       " 'former',\n",
       " 'formerly',\n",
       " 'forty',\n",
       " 'four',\n",
       " 'from',\n",
       " 'front',\n",
       " 'full',\n",
       " 'further',\n",
       " 'get',\n",
       " 'give',\n",
       " 'go',\n",
       " 'had',\n",
       " 'has',\n",
       " 'have',\n",
       " 'he',\n",
       " 'hence',\n",
       " 'her',\n",
       " 'here',\n",
       " 'hereafter',\n",
       " 'hereby',\n",
       " 'herein',\n",
       " 'hereupon',\n",
       " 'hers',\n",
       " 'herself',\n",
       " 'him',\n",
       " 'himself',\n",
       " 'his',\n",
       " 'how',\n",
       " 'however',\n",
       " 'hundred',\n",
       " 'i',\n",
       " 'if',\n",
       " 'in',\n",
       " 'indeed',\n",
       " 'into',\n",
       " 'is',\n",
       " 'it',\n",
       " 'its',\n",
       " 'itself',\n",
       " 'just',\n",
       " 'keep',\n",
       " 'last',\n",
       " 'latter',\n",
       " 'latterly',\n",
       " 'least',\n",
       " 'less',\n",
       " 'made',\n",
       " 'make',\n",
       " 'many',\n",
       " 'may',\n",
       " 'me',\n",
       " 'meanwhile',\n",
       " 'might',\n",
       " 'mine',\n",
       " 'more',\n",
       " 'moreover',\n",
       " 'most',\n",
       " 'mostly',\n",
       " 'move',\n",
       " 'much',\n",
       " 'must',\n",
       " 'my',\n",
       " 'myself',\n",
       " 'name',\n",
       " 'namely',\n",
       " 'neither',\n",
       " 'never',\n",
       " 'nevertheless',\n",
       " 'next',\n",
       " 'nine',\n",
       " 'no',\n",
       " 'nobody',\n",
       " 'none',\n",
       " 'noone',\n",
       " 'nor',\n",
       " 'not',\n",
       " 'nothing',\n",
       " 'now',\n",
       " 'nowhere',\n",
       " 'of',\n",
       " 'off',\n",
       " 'often',\n",
       " 'on',\n",
       " 'once',\n",
       " 'one',\n",
       " 'only',\n",
       " 'onto',\n",
       " 'or',\n",
       " 'other',\n",
       " 'others',\n",
       " 'otherwise',\n",
       " 'our',\n",
       " 'ours',\n",
       " 'ourselves',\n",
       " 'out',\n",
       " 'over',\n",
       " 'own',\n",
       " 'part',\n",
       " 'per',\n",
       " 'perhaps',\n",
       " 'please',\n",
       " 'put',\n",
       " 'quite',\n",
       " 'rather',\n",
       " 're',\n",
       " 'really',\n",
       " 'regarding',\n",
       " 'same',\n",
       " 'say',\n",
       " 'see',\n",
       " 'seem',\n",
       " 'seemed',\n",
       " 'seeming',\n",
       " 'seems',\n",
       " 'serious',\n",
       " 'several',\n",
       " 'she',\n",
       " 'should',\n",
       " 'show',\n",
       " 'side',\n",
       " 'since',\n",
       " 'six',\n",
       " 'sixty',\n",
       " 'so',\n",
       " 'some',\n",
       " 'somehow',\n",
       " 'someone',\n",
       " 'something',\n",
       " 'sometime',\n",
       " 'sometimes',\n",
       " 'somewhere',\n",
       " 'still',\n",
       " 'such',\n",
       " 'take',\n",
       " 'ten',\n",
       " 'than',\n",
       " 'that',\n",
       " 'the',\n",
       " 'their',\n",
       " 'them',\n",
       " 'themselves',\n",
       " 'then',\n",
       " 'thence',\n",
       " 'there',\n",
       " 'thereafter',\n",
       " 'thereby',\n",
       " 'therefore',\n",
       " 'therein',\n",
       " 'thereupon',\n",
       " 'these',\n",
       " 'they',\n",
       " 'third',\n",
       " 'this',\n",
       " 'those',\n",
       " 'though',\n",
       " 'three',\n",
       " 'through',\n",
       " 'throughout',\n",
       " 'thru',\n",
       " 'thus',\n",
       " 'to',\n",
       " 'together',\n",
       " 'too',\n",
       " 'top',\n",
       " 'toward',\n",
       " 'towards',\n",
       " 'twelve',\n",
       " 'twenty',\n",
       " 'two',\n",
       " 'under',\n",
       " 'unless',\n",
       " 'until',\n",
       " 'up',\n",
       " 'upon',\n",
       " 'us',\n",
       " 'used',\n",
       " 'using',\n",
       " 'various',\n",
       " 'very',\n",
       " 'via',\n",
       " 'was',\n",
       " 'we',\n",
       " 'well',\n",
       " 'were',\n",
       " 'what',\n",
       " 'whatever',\n",
       " 'when',\n",
       " 'whence',\n",
       " 'whenever',\n",
       " 'where',\n",
       " 'whereafter',\n",
       " 'whereas',\n",
       " 'whereby',\n",
       " 'wherein',\n",
       " 'whereupon',\n",
       " 'wherever',\n",
       " 'whether',\n",
       " 'which',\n",
       " 'while',\n",
       " 'whither',\n",
       " 'who',\n",
       " 'whoever',\n",
       " 'whole',\n",
       " 'whom',\n",
       " 'whose',\n",
       " 'why',\n",
       " 'will',\n",
       " 'with',\n",
       " 'within',\n",
       " 'without',\n",
       " 'would',\n",
       " 'yet',\n",
       " 'you',\n",
       " 'your',\n",
       " 'yours',\n",
       " 'yourself',\n",
       " 'yourselves'}"
      ]
     },
     "execution_count": 62,
     "metadata": {},
     "output_type": "execute_result"
    }
   ],
   "source": [
    "# Spacy's Default Stop Words\n",
    "nlp.Defaults.stop_words"
   ]
  },
  {
   "cell_type": "code",
   "execution_count": 63,
   "metadata": {},
   "outputs": [],
   "source": [
    "tokens = []\n",
    "\n",
    "\"\"\" Update those tokens w/o stopwords\"\"\"\n",
    "for doc in tokenizer.pipe(df['reviews.text'], batch_size=500):\n",
    "    \n",
    "    doc_tokens = []\n",
    "    \n",
    "    for token in doc:\n",
    "        # make sure the token is not a stop word or punctuation\n",
    "        if (token.is_stop == False) & (token.is_punct == False):\n",
    "            doc_tokens.append(token.text.lower())\n",
    "\n",
    "    tokens.append(doc_tokens)\n",
    "\n",
    "df['tokens'] = tokens"
   ]
  },
  {
   "cell_type": "code",
   "execution_count": 60,
   "metadata": {},
   "outputs": [
    {
     "data": {
      "text/plain": [
       "0    [i, order, 3, item, bad, quality., is, missing...\n",
       "1               [bulk, expensive, way, products, like]\n",
       "2                      [well, duracell, price, happy.]\n",
       "3        [seem, work, brand, batteries, better, price]\n",
       "4     [these, batteries, long, lasting, price, great.]\n",
       "Name: tokens, dtype: object"
      ]
     },
     "execution_count": 60,
     "metadata": {},
     "output_type": "execute_result"
    }
   ],
   "source": [
    "df.tokens.head()"
   ]
  },
  {
   "cell_type": "code",
   "execution_count": 64,
   "metadata": {},
   "outputs": [
    {
     "data": {
      "image/png": "[encoded data removed]",
      "text/plain": [
       "<Figure size 432x288 with 1 Axes>"
      ]
     },
     "metadata": {
      "needs_background": "light"
     },
     "output_type": "display_data"
    }
   ],
   "source": [
    "wc = count(df['tokens'])\n",
    "\n",
    "wc_top20 = wc[wc['rank'] <= 20]\n",
    "\n",
    "squarify.plot(sizes=wc_top20['pct_total'], label=wc_top20['word'], alpha=.8 )\n",
    "plt.axis('off')\n",
    "plt.show()"
   ]
  },
  {
   "cell_type": "markdown",
   "metadata": {},
   "source": [
    "### Extending Stop Words"
   ]
  },
  {
   "cell_type": "code",
   "execution_count": 65,
   "metadata": {},
   "outputs": [
    {
     "name": "stdout",
     "output_type": "stream",
     "text": [
      "<class 'set'>\n"
     ]
    }
   ],
   "source": [
    "print(type(nlp.Defaults.stop_words))"
   ]
  },
  {
   "cell_type": "code",
   "execution_count": 66,
   "metadata": {},
   "outputs": [],
   "source": [
    "# union of default set and new words in the list\n",
    "STOP_WORDS = nlp.Defaults.stop_words.union(['I', 'amazon', 'i', 'Amazon', 'it', \"it's\", 'it.', 'the', 'this',])"
   ]
  },
  {
   "cell_type": "code",
   "execution_count": 68,
   "metadata": {},
   "outputs": [
    {
     "data": {
      "text/plain": [
       "310"
      ]
     },
     "execution_count": 68,
     "metadata": {},
     "output_type": "execute_result"
    }
   ],
   "source": [
    "len(STOP_WORDS)"
   ]
  },
  {
   "cell_type": "code",
   "execution_count": 70,
   "metadata": {},
   "outputs": [],
   "source": [
    "tokens = []\n",
    "\n",
    "for doc in tokenizer.pipe(df['reviews.text'], batch_size=500):\n",
    "    \n",
    "    doc_tokens = []\n",
    "    \n",
    "    for token in doc: \n",
    "        if token.text.lower() not in STOP_WORDS:\n",
    "            doc_tokens.append(token.text.lower())\n",
    "   \n",
    "    tokens.append(doc_tokens)\n",
    "    \n",
    "df['tokens'] = tokens"
   ]
  },
  {
   "cell_type": "code",
   "execution_count": 71,
   "metadata": {},
   "outputs": [
    {
     "data": {
      "text/html": [
       "<div>\n",
       "<style scoped>\n",
       "    .dataframe tbody tr th:only-of-type {\n",
       "        vertical-align: middle;\n",
       "    }\n",
       "\n",
       "    .dataframe tbody tr th {\n",
       "        vertical-align: top;\n",
       "    }\n",
       "\n",
       "    .dataframe thead th {\n",
       "        text-align: right;\n",
       "    }\n",
       "</style>\n",
       "<table border=\"1\" class=\"dataframe\">\n",
       "  <thead>\n",
       "    <tr style=\"text-align: right;\">\n",
       "      <th></th>\n",
       "      <th>word</th>\n",
       "      <th>appears_in</th>\n",
       "      <th>count</th>\n",
       "      <th>rank</th>\n",
       "      <th>pct_total</th>\n",
       "      <th>cul_pct_total</th>\n",
       "      <th>appears_in_pct</th>\n",
       "    </tr>\n",
       "  </thead>\n",
       "  <tbody>\n",
       "    <tr>\n",
       "      <th>82</th>\n",
       "      <td>great</td>\n",
       "      <td>7187</td>\n",
       "      <td>8183</td>\n",
       "      <td>1.0</td>\n",
       "      <td>0.023567</td>\n",
       "      <td>0.023567</td>\n",
       "      <td>0.253671</td>\n",
       "    </tr>\n",
       "    <tr>\n",
       "      <th>23</th>\n",
       "      <td>batteries</td>\n",
       "      <td>3964</td>\n",
       "      <td>5671</td>\n",
       "      <td>2.0</td>\n",
       "      <td>0.016332</td>\n",
       "      <td>0.039899</td>\n",
       "      <td>0.139912</td>\n",
       "    </tr>\n",
       "    <tr>\n",
       "      <th>65</th>\n",
       "      <td>good</td>\n",
       "      <td>4633</td>\n",
       "      <td>5148</td>\n",
       "      <td>3.0</td>\n",
       "      <td>0.014826</td>\n",
       "      <td>0.054726</td>\n",
       "      <td>0.163525</td>\n",
       "    </tr>\n",
       "    <tr>\n",
       "      <th>7809</th>\n",
       "      <td>tablet</td>\n",
       "      <td>3920</td>\n",
       "      <td>4714</td>\n",
       "      <td>4.0</td>\n",
       "      <td>0.013576</td>\n",
       "      <td>0.068302</td>\n",
       "      <td>0.138359</td>\n",
       "    </tr>\n",
       "    <tr>\n",
       "      <th>107</th>\n",
       "      <td>love</td>\n",
       "      <td>3154</td>\n",
       "      <td>3458</td>\n",
       "      <td>5.0</td>\n",
       "      <td>0.009959</td>\n",
       "      <td>0.078261</td>\n",
       "      <td>0.111323</td>\n",
       "    </tr>\n",
       "  </tbody>\n",
       "</table>\n",
       "</div>"
      ],
      "text/plain": [
       "           word  appears_in  count  rank  pct_total  cul_pct_total  \\\n",
       "82        great        7187   8183   1.0   0.023567       0.023567   \n",
       "23    batteries        3964   5671   2.0   0.016332       0.039899   \n",
       "65         good        4633   5148   3.0   0.014826       0.054726   \n",
       "7809     tablet        3920   4714   4.0   0.013576       0.068302   \n",
       "107        love        3154   3458   5.0   0.009959       0.078261   \n",
       "\n",
       "      appears_in_pct  \n",
       "82          0.253671  \n",
       "23          0.139912  \n",
       "65          0.163525  \n",
       "7809        0.138359  \n",
       "107         0.111323  "
      ]
     },
     "execution_count": 71,
     "metadata": {},
     "output_type": "execute_result"
    }
   ],
   "source": [
    "wc = count(df['tokens'])\n",
    "wc.head()"
   ]
  },
  {
   "cell_type": "code",
   "execution_count": 73,
   "metadata": {},
   "outputs": [
    {
     "data": {
      "image/png": "[encoded data removed]",
      "text/plain": [
       "<Figure size 432x288 with 1 Axes>"
      ]
     },
     "metadata": {
      "needs_background": "light"
     },
     "output_type": "display_data"
    }
   ],
   "source": [
    "wc_top20 = wc[wc['rank'] <= 20]\n",
    "\n",
    "squarify.plot(sizes=wc_top20['pct_total'], label=wc_top20['word'], alpha=.8 )\n",
    "plt.axis('off')\n",
    "plt.show()"
   ]
  },
  {
   "cell_type": "code",
   "execution_count": 74,
   "metadata": {},
   "outputs": [
    {
     "data": {
      "text/plain": [
       "5    19897\n",
       "4     5648\n",
       "3     1206\n",
       "1      965\n",
       "2      616\n",
       "Name: reviews.rating, dtype: int64"
      ]
     },
     "execution_count": 74,
     "metadata": {},
     "output_type": "execute_result"
    }
   ],
   "source": [
    "df['reviews.rating'].value_counts()"
   ]
  },
  {
   "cell_type": "markdown",
   "metadata": {},
   "source": [
    "### Statistical Trimming\n",
    "\n",
    "So far, we have talked about stop word in relation to either broad english words or domain specific stop words. Another common approach to stop word removal is via statistical trimming. The basic idea: preserve the words that give the most about of variation in your data. \n",
    "\n",
    "Do you remember this graph?"
   ]
  },
  {
   "cell_type": "code",
   "execution_count": 75,
   "metadata": {},
   "outputs": [
    {
     "data": {
      "image/png": "[encoded data removed]",
      "text/plain": [
       "<Figure size 432x288 with 1 Axes>"
      ]
     },
     "metadata": {
      "needs_background": "light"
     },
     "output_type": "display_data"
    }
   ],
   "source": [
    "sns.lineplot(x='rank', y='cul_pct_total', data=wc);"
   ]
  },
  {
   "cell_type": "markdown",
   "metadata": {},
   "source": [
    "This graph tells us that only a *handful* of words represented 80% of words in the overall corpus. We can interpret this in two ways: \n",
    "1. The words that appear most frequently may not provide any insight into the mean on the documens since they are so prevalent. \n",
    "2. Words that appear infrequeny (at the end of the graph) also probably do not add much value, because the are mentioned so rarely. \n",
    "\n",
    "Let's take a look at the words at the bottom and the top and make a decision for ourselves:"
   ]
  },
  {
   "cell_type": "code",
   "execution_count": 78,
   "metadata": {},
   "outputs": [
    {
     "data": {
      "text/html": [
       "<div>\n",
       "<style scoped>\n",
       "    .dataframe tbody tr th:only-of-type {\n",
       "        vertical-align: middle;\n",
       "    }\n",
       "\n",
       "    .dataframe tbody tr th {\n",
       "        vertical-align: top;\n",
       "    }\n",
       "\n",
       "    .dataframe thead th {\n",
       "        text-align: right;\n",
       "    }\n",
       "</style>\n",
       "<table border=\"1\" class=\"dataframe\">\n",
       "  <thead>\n",
       "    <tr style=\"text-align: right;\">\n",
       "      <th></th>\n",
       "      <th>word</th>\n",
       "      <th>appears_in</th>\n",
       "      <th>count</th>\n",
       "      <th>rank</th>\n",
       "      <th>pct_total</th>\n",
       "      <th>cul_pct_total</th>\n",
       "      <th>appears_in_pct</th>\n",
       "    </tr>\n",
       "  </thead>\n",
       "  <tbody>\n",
       "    <tr>\n",
       "      <th>82</th>\n",
       "      <td>great</td>\n",
       "      <td>7187</td>\n",
       "      <td>8183</td>\n",
       "      <td>1.0</td>\n",
       "      <td>0.023567</td>\n",
       "      <td>0.023567</td>\n",
       "      <td>0.253671</td>\n",
       "    </tr>\n",
       "    <tr>\n",
       "      <th>23</th>\n",
       "      <td>batteries</td>\n",
       "      <td>3964</td>\n",
       "      <td>5671</td>\n",
       "      <td>2.0</td>\n",
       "      <td>0.016332</td>\n",
       "      <td>0.039899</td>\n",
       "      <td>0.139912</td>\n",
       "    </tr>\n",
       "    <tr>\n",
       "      <th>65</th>\n",
       "      <td>good</td>\n",
       "      <td>4633</td>\n",
       "      <td>5148</td>\n",
       "      <td>3.0</td>\n",
       "      <td>0.014826</td>\n",
       "      <td>0.054726</td>\n",
       "      <td>0.163525</td>\n",
       "    </tr>\n",
       "    <tr>\n",
       "      <th>7809</th>\n",
       "      <td>tablet</td>\n",
       "      <td>3920</td>\n",
       "      <td>4714</td>\n",
       "      <td>4.0</td>\n",
       "      <td>0.013576</td>\n",
       "      <td>0.068302</td>\n",
       "      <td>0.138359</td>\n",
       "    </tr>\n",
       "    <tr>\n",
       "      <th>107</th>\n",
       "      <td>love</td>\n",
       "      <td>3154</td>\n",
       "      <td>3458</td>\n",
       "      <td>5.0</td>\n",
       "      <td>0.009959</td>\n",
       "      <td>0.078261</td>\n",
       "      <td>0.111323</td>\n",
       "    </tr>\n",
       "    <tr>\n",
       "      <th>114</th>\n",
       "      <td>use</td>\n",
       "      <td>2881</td>\n",
       "      <td>3233</td>\n",
       "      <td>6.0</td>\n",
       "      <td>0.009311</td>\n",
       "      <td>0.087572</td>\n",
       "      <td>0.101687</td>\n",
       "    </tr>\n",
       "    <tr>\n",
       "      <th>29</th>\n",
       "      <td>bought</td>\n",
       "      <td>2916</td>\n",
       "      <td>3111</td>\n",
       "      <td>7.0</td>\n",
       "      <td>0.008960</td>\n",
       "      <td>0.096532</td>\n",
       "      <td>0.102922</td>\n",
       "    </tr>\n",
       "    <tr>\n",
       "      <th>1343</th>\n",
       "      <td>easy</td>\n",
       "      <td>2598</td>\n",
       "      <td>2823</td>\n",
       "      <td>8.0</td>\n",
       "      <td>0.008130</td>\n",
       "      <td>0.104662</td>\n",
       "      <td>0.091698</td>\n",
       "    </tr>\n",
       "    <tr>\n",
       "      <th>19</th>\n",
       "      <td>price</td>\n",
       "      <td>2672</td>\n",
       "      <td>2808</td>\n",
       "      <td>9.0</td>\n",
       "      <td>0.008087</td>\n",
       "      <td>0.112749</td>\n",
       "      <td>0.094310</td>\n",
       "    </tr>\n",
       "    <tr>\n",
       "      <th>13</th>\n",
       "      <td>like</td>\n",
       "      <td>2127</td>\n",
       "      <td>2403</td>\n",
       "      <td>10.0</td>\n",
       "      <td>0.006921</td>\n",
       "      <td>0.119669</td>\n",
       "      <td>0.075074</td>\n",
       "    </tr>\n",
       "    <tr>\n",
       "      <th>5589</th>\n",
       "      <td>kindle</td>\n",
       "      <td>1805</td>\n",
       "      <td>2315</td>\n",
       "      <td>11.0</td>\n",
       "      <td>0.006667</td>\n",
       "      <td>0.126337</td>\n",
       "      <td>0.063709</td>\n",
       "    </tr>\n",
       "    <tr>\n",
       "      <th>4479</th>\n",
       "      <td>loves</td>\n",
       "      <td>2086</td>\n",
       "      <td>2198</td>\n",
       "      <td>12.0</td>\n",
       "      <td>0.006330</td>\n",
       "      <td>0.132667</td>\n",
       "      <td>0.073627</td>\n",
       "    </tr>\n",
       "    <tr>\n",
       "      <th>26</th>\n",
       "      <td>long</td>\n",
       "      <td>2085</td>\n",
       "      <td>2193</td>\n",
       "      <td>13.0</td>\n",
       "      <td>0.006316</td>\n",
       "      <td>0.138983</td>\n",
       "      <td>0.073592</td>\n",
       "    </tr>\n",
       "    <tr>\n",
       "      <th>21</th>\n",
       "      <td>work</td>\n",
       "      <td>1914</td>\n",
       "      <td>1997</td>\n",
       "      <td>14.0</td>\n",
       "      <td>0.005751</td>\n",
       "      <td>0.144734</td>\n",
       "      <td>0.067556</td>\n",
       "    </tr>\n",
       "    <tr>\n",
       "      <th>242</th>\n",
       "      <td>kids</td>\n",
       "      <td>1657</td>\n",
       "      <td>1922</td>\n",
       "      <td>15.0</td>\n",
       "      <td>0.005535</td>\n",
       "      <td>0.150269</td>\n",
       "      <td>0.058485</td>\n",
       "    </tr>\n",
       "    <tr>\n",
       "      <th>28</th>\n",
       "      <td>buy</td>\n",
       "      <td>1783</td>\n",
       "      <td>1915</td>\n",
       "      <td>16.0</td>\n",
       "      <td>0.005515</td>\n",
       "      <td>0.155785</td>\n",
       "      <td>0.062932</td>\n",
       "    </tr>\n",
       "    <tr>\n",
       "      <th>1418</th>\n",
       "      <td>fire</td>\n",
       "      <td>1570</td>\n",
       "      <td>1836</td>\n",
       "      <td>17.0</td>\n",
       "      <td>0.005288</td>\n",
       "      <td>0.161072</td>\n",
       "      <td>0.055414</td>\n",
       "    </tr>\n",
       "    <tr>\n",
       "      <th>5</th>\n",
       "      <td>battery</td>\n",
       "      <td>1578</td>\n",
       "      <td>1788</td>\n",
       "      <td>18.0</td>\n",
       "      <td>0.005149</td>\n",
       "      <td>0.166222</td>\n",
       "      <td>0.055697</td>\n",
       "    </tr>\n",
       "    <tr>\n",
       "      <th>1424</th>\n",
       "      <td>old</td>\n",
       "      <td>1643</td>\n",
       "      <td>1752</td>\n",
       "      <td>19.0</td>\n",
       "      <td>0.005046</td>\n",
       "      <td>0.171267</td>\n",
       "      <td>0.057991</td>\n",
       "    </tr>\n",
       "    <tr>\n",
       "      <th>118</th>\n",
       "      <td>year</td>\n",
       "      <td>1444</td>\n",
       "      <td>1614</td>\n",
       "      <td>20.0</td>\n",
       "      <td>0.004648</td>\n",
       "      <td>0.175916</td>\n",
       "      <td>0.050967</td>\n",
       "    </tr>\n",
       "    <tr>\n",
       "      <th>148</th>\n",
       "      <td>batteries.</td>\n",
       "      <td>1427</td>\n",
       "      <td>1548</td>\n",
       "      <td>21.0</td>\n",
       "      <td>0.004458</td>\n",
       "      <td>0.180374</td>\n",
       "      <td>0.050367</td>\n",
       "    </tr>\n",
       "    <tr>\n",
       "      <th>55</th>\n",
       "      <td>price.</td>\n",
       "      <td>1435</td>\n",
       "      <td>1465</td>\n",
       "      <td>22.0</td>\n",
       "      <td>0.004219</td>\n",
       "      <td>0.184593</td>\n",
       "      <td>0.050649</td>\n",
       "    </tr>\n",
       "    <tr>\n",
       "      <th>105</th>\n",
       "      <td>works</td>\n",
       "      <td>1427</td>\n",
       "      <td>1448</td>\n",
       "      <td>23.0</td>\n",
       "      <td>0.004170</td>\n",
       "      <td>0.188763</td>\n",
       "      <td>0.050367</td>\n",
       "    </tr>\n",
       "    <tr>\n",
       "      <th>218</th>\n",
       "      <td>time</td>\n",
       "      <td>1219</td>\n",
       "      <td>1366</td>\n",
       "      <td>24.0</td>\n",
       "      <td>0.003934</td>\n",
       "      <td>0.192697</td>\n",
       "      <td>0.043026</td>\n",
       "    </tr>\n",
       "    <tr>\n",
       "      <th>137</th>\n",
       "      <td>don't</td>\n",
       "      <td>1192</td>\n",
       "      <td>1350</td>\n",
       "      <td>25.0</td>\n",
       "      <td>0.003888</td>\n",
       "      <td>0.196585</td>\n",
       "      <td>0.042073</td>\n",
       "    </tr>\n",
       "    <tr>\n",
       "      <th>11099</th>\n",
       "      <td>tablet.</td>\n",
       "      <td>1253</td>\n",
       "      <td>1327</td>\n",
       "      <td>26.0</td>\n",
       "      <td>0.003822</td>\n",
       "      <td>0.200407</td>\n",
       "      <td>0.044226</td>\n",
       "    </tr>\n",
       "    <tr>\n",
       "      <th>360</th>\n",
       "      <td>product</td>\n",
       "      <td>1232</td>\n",
       "      <td>1302</td>\n",
       "      <td>27.0</td>\n",
       "      <td>0.003750</td>\n",
       "      <td>0.204157</td>\n",
       "      <td>0.043484</td>\n",
       "    </tr>\n",
       "    <tr>\n",
       "      <th>643</th>\n",
       "      <td>best</td>\n",
       "      <td>1171</td>\n",
       "      <td>1273</td>\n",
       "      <td>28.0</td>\n",
       "      <td>0.003666</td>\n",
       "      <td>0.207823</td>\n",
       "      <td>0.041331</td>\n",
       "    </tr>\n",
       "    <tr>\n",
       "      <th>3325</th>\n",
       "      <td>apps</td>\n",
       "      <td>1106</td>\n",
       "      <td>1262</td>\n",
       "      <td>29.0</td>\n",
       "      <td>0.003635</td>\n",
       "      <td>0.211458</td>\n",
       "      <td>0.039037</td>\n",
       "    </tr>\n",
       "    <tr>\n",
       "      <th>143</th>\n",
       "      <td>purchased</td>\n",
       "      <td>1185</td>\n",
       "      <td>1256</td>\n",
       "      <td>30.0</td>\n",
       "      <td>0.003617</td>\n",
       "      <td>0.215075</td>\n",
       "      <td>0.041825</td>\n",
       "    </tr>\n",
       "    <tr>\n",
       "      <th>123</th>\n",
       "      <td>got</td>\n",
       "      <td>1182</td>\n",
       "      <td>1247</td>\n",
       "      <td>31.0</td>\n",
       "      <td>0.003591</td>\n",
       "      <td>0.218666</td>\n",
       "      <td>0.041720</td>\n",
       "    </tr>\n",
       "    <tr>\n",
       "      <th>22</th>\n",
       "      <td>better</td>\n",
       "      <td>1101</td>\n",
       "      <td>1200</td>\n",
       "      <td>32.0</td>\n",
       "      <td>0.003456</td>\n",
       "      <td>0.222122</td>\n",
       "      <td>0.038861</td>\n",
       "    </tr>\n",
       "    <tr>\n",
       "      <th>3685</th>\n",
       "      <td>screen</td>\n",
       "      <td>1043</td>\n",
       "      <td>1184</td>\n",
       "      <td>33.0</td>\n",
       "      <td>0.003410</td>\n",
       "      <td>0.225532</td>\n",
       "      <td>0.036813</td>\n",
       "    </tr>\n",
       "    <tr>\n",
       "      <th>1133</th>\n",
       "      <td>games</td>\n",
       "      <td>1061</td>\n",
       "      <td>1130</td>\n",
       "      <td>34.0</td>\n",
       "      <td>0.003254</td>\n",
       "      <td>0.228787</td>\n",
       "      <td>0.037449</td>\n",
       "    </tr>\n",
       "    <tr>\n",
       "      <th>655</th>\n",
       "      <td>play</td>\n",
       "      <td>965</td>\n",
       "      <td>1071</td>\n",
       "      <td>35.0</td>\n",
       "      <td>0.003084</td>\n",
       "      <td>0.231871</td>\n",
       "      <td>0.034060</td>\n",
       "    </tr>\n",
       "    <tr>\n",
       "      <th>226</th>\n",
       "      <td>nice</td>\n",
       "      <td>1008</td>\n",
       "      <td>1069</td>\n",
       "      <td>36.0</td>\n",
       "      <td>0.003079</td>\n",
       "      <td>0.234950</td>\n",
       "      <td>0.035578</td>\n",
       "    </tr>\n",
       "    <tr>\n",
       "      <th>20</th>\n",
       "      <td>brand</td>\n",
       "      <td>957</td>\n",
       "      <td>1045</td>\n",
       "      <td>37.0</td>\n",
       "      <td>0.003010</td>\n",
       "      <td>0.237959</td>\n",
       "      <td>0.033778</td>\n",
       "    </tr>\n",
       "    <tr>\n",
       "      <th>1030</th>\n",
       "      <td>quality</td>\n",
       "      <td>975</td>\n",
       "      <td>1008</td>\n",
       "      <td>38.0</td>\n",
       "      <td>0.002903</td>\n",
       "      <td>0.240863</td>\n",
       "      <td>0.034413</td>\n",
       "    </tr>\n",
       "    <tr>\n",
       "      <th>1393</th>\n",
       "      <td>read</td>\n",
       "      <td>880</td>\n",
       "      <td>985</td>\n",
       "      <td>39.0</td>\n",
       "      <td>0.002837</td>\n",
       "      <td>0.243699</td>\n",
       "      <td>0.031060</td>\n",
       "    </tr>\n",
       "    <tr>\n",
       "      <th>773</th>\n",
       "      <td>little</td>\n",
       "      <td>899</td>\n",
       "      <td>968</td>\n",
       "      <td>40.0</td>\n",
       "      <td>0.002788</td>\n",
       "      <td>0.246487</td>\n",
       "      <td>0.031731</td>\n",
       "    </tr>\n",
       "    <tr>\n",
       "      <th>651</th>\n",
       "      <td>i'm</td>\n",
       "      <td>819</td>\n",
       "      <td>966</td>\n",
       "      <td>41.0</td>\n",
       "      <td>0.002782</td>\n",
       "      <td>0.249269</td>\n",
       "      <td>0.028907</td>\n",
       "    </tr>\n",
       "    <tr>\n",
       "      <th>131</th>\n",
       "      <td>perfect</td>\n",
       "      <td>922</td>\n",
       "      <td>959</td>\n",
       "      <td>42.0</td>\n",
       "      <td>0.002762</td>\n",
       "      <td>0.252031</td>\n",
       "      <td>0.032543</td>\n",
       "    </tr>\n",
       "    <tr>\n",
       "      <th>209</th>\n",
       "      <td>recommend</td>\n",
       "      <td>942</td>\n",
       "      <td>952</td>\n",
       "      <td>43.0</td>\n",
       "      <td>0.002742</td>\n",
       "      <td>0.254773</td>\n",
       "      <td>0.033249</td>\n",
       "    </tr>\n",
       "    <tr>\n",
       "      <th>329</th>\n",
       "      <td>new</td>\n",
       "      <td>845</td>\n",
       "      <td>934</td>\n",
       "      <td>44.0</td>\n",
       "      <td>0.002690</td>\n",
       "      <td>0.257463</td>\n",
       "      <td>0.029825</td>\n",
       "    </tr>\n",
       "    <tr>\n",
       "      <th>290</th>\n",
       "      <td>2</td>\n",
       "      <td>809</td>\n",
       "      <td>892</td>\n",
       "      <td>45.0</td>\n",
       "      <td>0.002569</td>\n",
       "      <td>0.260032</td>\n",
       "      <td>0.028554</td>\n",
       "    </tr>\n",
       "    <tr>\n",
       "      <th>731</th>\n",
       "      <td>use.</td>\n",
       "      <td>881</td>\n",
       "      <td>892</td>\n",
       "      <td>46.0</td>\n",
       "      <td>0.002569</td>\n",
       "      <td>0.262601</td>\n",
       "      <td>0.031096</td>\n",
       "    </tr>\n",
       "    <tr>\n",
       "      <th>1755</th>\n",
       "      <td>reading</td>\n",
       "      <td>822</td>\n",
       "      <td>890</td>\n",
       "      <td>47.0</td>\n",
       "      <td>0.002563</td>\n",
       "      <td>0.265164</td>\n",
       "      <td>0.029013</td>\n",
       "    </tr>\n",
       "    <tr>\n",
       "      <th>76</th>\n",
       "      <td>can't</td>\n",
       "      <td>843</td>\n",
       "      <td>884</td>\n",
       "      <td>48.0</td>\n",
       "      <td>0.002546</td>\n",
       "      <td>0.267710</td>\n",
       "      <td>0.029754</td>\n",
       "    </tr>\n",
       "    <tr>\n",
       "      <th>5631</th>\n",
       "      <td>books</td>\n",
       "      <td>801</td>\n",
       "      <td>877</td>\n",
       "      <td>49.0</td>\n",
       "      <td>0.002526</td>\n",
       "      <td>0.270236</td>\n",
       "      <td>0.028272</td>\n",
       "    </tr>\n",
       "    <tr>\n",
       "      <th>126</th>\n",
       "      <td>need</td>\n",
       "      <td>792</td>\n",
       "      <td>844</td>\n",
       "      <td>50.0</td>\n",
       "      <td>0.002431</td>\n",
       "      <td>0.272666</td>\n",
       "      <td>0.027954</td>\n",
       "    </tr>\n",
       "  </tbody>\n",
       "</table>\n",
       "</div>"
      ],
      "text/plain": [
       "             word  appears_in  count  rank  pct_total  cul_pct_total  \\\n",
       "82          great        7187   8183   1.0   0.023567       0.023567   \n",
       "23      batteries        3964   5671   2.0   0.016332       0.039899   \n",
       "65           good        4633   5148   3.0   0.014826       0.054726   \n",
       "7809       tablet        3920   4714   4.0   0.013576       0.068302   \n",
       "107          love        3154   3458   5.0   0.009959       0.078261   \n",
       "114           use        2881   3233   6.0   0.009311       0.087572   \n",
       "29         bought        2916   3111   7.0   0.008960       0.096532   \n",
       "1343         easy        2598   2823   8.0   0.008130       0.104662   \n",
       "19          price        2672   2808   9.0   0.008087       0.112749   \n",
       "13           like        2127   2403  10.0   0.006921       0.119669   \n",
       "5589       kindle        1805   2315  11.0   0.006667       0.126337   \n",
       "4479        loves        2086   2198  12.0   0.006330       0.132667   \n",
       "26           long        2085   2193  13.0   0.006316       0.138983   \n",
       "21           work        1914   1997  14.0   0.005751       0.144734   \n",
       "242          kids        1657   1922  15.0   0.005535       0.150269   \n",
       "28            buy        1783   1915  16.0   0.005515       0.155785   \n",
       "1418         fire        1570   1836  17.0   0.005288       0.161072   \n",
       "5         battery        1578   1788  18.0   0.005149       0.166222   \n",
       "1424          old        1643   1752  19.0   0.005046       0.171267   \n",
       "118          year        1444   1614  20.0   0.004648       0.175916   \n",
       "148    batteries.        1427   1548  21.0   0.004458       0.180374   \n",
       "55         price.        1435   1465  22.0   0.004219       0.184593   \n",
       "105         works        1427   1448  23.0   0.004170       0.188763   \n",
       "218          time        1219   1366  24.0   0.003934       0.192697   \n",
       "137         don't        1192   1350  25.0   0.003888       0.196585   \n",
       "11099     tablet.        1253   1327  26.0   0.003822       0.200407   \n",
       "360       product        1232   1302  27.0   0.003750       0.204157   \n",
       "643          best        1171   1273  28.0   0.003666       0.207823   \n",
       "3325         apps        1106   1262  29.0   0.003635       0.211458   \n",
       "143     purchased        1185   1256  30.0   0.003617       0.215075   \n",
       "123           got        1182   1247  31.0   0.003591       0.218666   \n",
       "22         better        1101   1200  32.0   0.003456       0.222122   \n",
       "3685       screen        1043   1184  33.0   0.003410       0.225532   \n",
       "1133        games        1061   1130  34.0   0.003254       0.228787   \n",
       "655          play         965   1071  35.0   0.003084       0.231871   \n",
       "226          nice        1008   1069  36.0   0.003079       0.234950   \n",
       "20          brand         957   1045  37.0   0.003010       0.237959   \n",
       "1030      quality         975   1008  38.0   0.002903       0.240863   \n",
       "1393         read         880    985  39.0   0.002837       0.243699   \n",
       "773        little         899    968  40.0   0.002788       0.246487   \n",
       "651           i'm         819    966  41.0   0.002782       0.249269   \n",
       "131       perfect         922    959  42.0   0.002762       0.252031   \n",
       "209     recommend         942    952  43.0   0.002742       0.254773   \n",
       "329           new         845    934  44.0   0.002690       0.257463   \n",
       "290             2         809    892  45.0   0.002569       0.260032   \n",
       "731          use.         881    892  46.0   0.002569       0.262601   \n",
       "1755      reading         822    890  47.0   0.002563       0.265164   \n",
       "76          can't         843    884  48.0   0.002546       0.267710   \n",
       "5631        books         801    877  49.0   0.002526       0.270236   \n",
       "126          need         792    844  50.0   0.002431       0.272666   \n",
       "\n",
       "       appears_in_pct  \n",
       "82           0.253671  \n",
       "23           0.139912  \n",
       "65           0.163525  \n",
       "7809         0.138359  \n",
       "107          0.111323  \n",
       "114          0.101687  \n",
       "29           0.102922  \n",
       "1343         0.091698  \n",
       "19           0.094310  \n",
       "13           0.075074  \n",
       "5589         0.063709  \n",
       "4479         0.073627  \n",
       "26           0.073592  \n",
       "21           0.067556  \n",
       "242          0.058485  \n",
       "28           0.062932  \n",
       "1418         0.055414  \n",
       "5            0.055697  \n",
       "1424         0.057991  \n",
       "118          0.050967  \n",
       "148          0.050367  \n",
       "55           0.050649  \n",
       "105          0.050367  \n",
       "218          0.043026  \n",
       "137          0.042073  \n",
       "11099        0.044226  \n",
       "360          0.043484  \n",
       "643          0.041331  \n",
       "3325         0.039037  \n",
       "143          0.041825  \n",
       "123          0.041720  \n",
       "22           0.038861  \n",
       "3685         0.036813  \n",
       "1133         0.037449  \n",
       "655          0.034060  \n",
       "226          0.035578  \n",
       "20           0.033778  \n",
       "1030         0.034413  \n",
       "1393         0.031060  \n",
       "773          0.031731  \n",
       "651          0.028907  \n",
       "131          0.032543  \n",
       "209          0.033249  \n",
       "329          0.029825  \n",
       "290          0.028554  \n",
       "731          0.031096  \n",
       "1755         0.029013  \n",
       "76           0.029754  \n",
       "5631         0.028272  \n",
       "126          0.027954  "
      ]
     },
     "execution_count": 78,
     "metadata": {},
     "output_type": "execute_result"
    }
   ],
   "source": [
    "wc.head(50)"
   ]
  },
  {
   "cell_type": "code",
   "execution_count": 80,
   "metadata": {},
   "outputs": [
    {
     "data": {
      "text/html": [
       "<div>\n",
       "<style scoped>\n",
       "    .dataframe tbody tr th:only-of-type {\n",
       "        vertical-align: middle;\n",
       "    }\n",
       "\n",
       "    .dataframe tbody tr th {\n",
       "        vertical-align: top;\n",
       "    }\n",
       "\n",
       "    .dataframe thead th {\n",
       "        text-align: right;\n",
       "    }\n",
       "</style>\n",
       "<table border=\"1\" class=\"dataframe\">\n",
       "  <thead>\n",
       "    <tr style=\"text-align: right;\">\n",
       "      <th></th>\n",
       "      <th>word</th>\n",
       "      <th>appears_in</th>\n",
       "      <th>count</th>\n",
       "      <th>rank</th>\n",
       "      <th>pct_total</th>\n",
       "      <th>cul_pct_total</th>\n",
       "      <th>appears_in_pct</th>\n",
       "    </tr>\n",
       "  </thead>\n",
       "  <tbody>\n",
       "    <tr>\n",
       "      <th>21215</th>\n",
       "      <td>readi,g</td>\n",
       "      <td>1</td>\n",
       "      <td>1</td>\n",
       "      <td>21216.0</td>\n",
       "      <td>0.000003</td>\n",
       "      <td>0.999974</td>\n",
       "      <td>0.000035</td>\n",
       "    </tr>\n",
       "    <tr>\n",
       "      <th>21218</th>\n",
       "      <td>perfectly..great</td>\n",
       "      <td>1</td>\n",
       "      <td>1</td>\n",
       "      <td>21217.0</td>\n",
       "      <td>0.000003</td>\n",
       "      <td>0.999977</td>\n",
       "      <td>0.000035</td>\n",
       "    </tr>\n",
       "    <tr>\n",
       "      <th>21219</th>\n",
       "      <td>blanking</td>\n",
       "      <td>1</td>\n",
       "      <td>1</td>\n",
       "      <td>21218.0</td>\n",
       "      <td>0.000003</td>\n",
       "      <td>0.999980</td>\n",
       "      <td>0.000035</td>\n",
       "    </tr>\n",
       "    <tr>\n",
       "      <th>21216</th>\n",
       "      <td>app\"</td>\n",
       "      <td>1</td>\n",
       "      <td>1</td>\n",
       "      <td>21219.0</td>\n",
       "      <td>0.000003</td>\n",
       "      <td>0.999983</td>\n",
       "      <td>0.000035</td>\n",
       "    </tr>\n",
       "    <tr>\n",
       "      <th>21217</th>\n",
       "      <td>have...then</td>\n",
       "      <td>1</td>\n",
       "      <td>1</td>\n",
       "      <td>21220.0</td>\n",
       "      <td>0.000003</td>\n",
       "      <td>0.999986</td>\n",
       "      <td>0.000035</td>\n",
       "    </tr>\n",
       "    <tr>\n",
       "      <th>21220</th>\n",
       "      <td>moztly</td>\n",
       "      <td>1</td>\n",
       "      <td>1</td>\n",
       "      <td>21221.0</td>\n",
       "      <td>0.000003</td>\n",
       "      <td>0.999988</td>\n",
       "      <td>0.000035</td>\n",
       "    </tr>\n",
       "    <tr>\n",
       "      <th>21221</th>\n",
       "      <td>titles,</td>\n",
       "      <td>1</td>\n",
       "      <td>1</td>\n",
       "      <td>21222.0</td>\n",
       "      <td>0.000003</td>\n",
       "      <td>0.999991</td>\n",
       "      <td>0.000035</td>\n",
       "    </tr>\n",
       "    <tr>\n",
       "      <th>21222</th>\n",
       "      <td>it..better</td>\n",
       "      <td>1</td>\n",
       "      <td>1</td>\n",
       "      <td>21223.0</td>\n",
       "      <td>0.000003</td>\n",
       "      <td>0.999994</td>\n",
       "      <td>0.000035</td>\n",
       "    </tr>\n",
       "    <tr>\n",
       "      <th>21223</th>\n",
       "      <td>shows/movies!</td>\n",
       "      <td>1</td>\n",
       "      <td>1</td>\n",
       "      <td>21224.0</td>\n",
       "      <td>0.000003</td>\n",
       "      <td>0.999997</td>\n",
       "      <td>0.000035</td>\n",
       "    </tr>\n",
       "    <tr>\n",
       "      <th>21224</th>\n",
       "      <td>bookreader.</td>\n",
       "      <td>1</td>\n",
       "      <td>1</td>\n",
       "      <td>21225.0</td>\n",
       "      <td>0.000003</td>\n",
       "      <td>1.000000</td>\n",
       "      <td>0.000035</td>\n",
       "    </tr>\n",
       "  </tbody>\n",
       "</table>\n",
       "</div>"
      ],
      "text/plain": [
       "                   word  appears_in  count     rank  pct_total  cul_pct_total  \\\n",
       "21215           readi,g           1      1  21216.0   0.000003       0.999974   \n",
       "21218  perfectly..great           1      1  21217.0   0.000003       0.999977   \n",
       "21219          blanking           1      1  21218.0   0.000003       0.999980   \n",
       "21216              app\"           1      1  21219.0   0.000003       0.999983   \n",
       "21217       have...then           1      1  21220.0   0.000003       0.999986   \n",
       "21220            moztly           1      1  21221.0   0.000003       0.999988   \n",
       "21221           titles,           1      1  21222.0   0.000003       0.999991   \n",
       "21222        it..better           1      1  21223.0   0.000003       0.999994   \n",
       "21223     shows/movies!           1      1  21224.0   0.000003       0.999997   \n",
       "21224       bookreader.           1      1  21225.0   0.000003       1.000000   \n",
       "\n",
       "       appears_in_pct  \n",
       "21215        0.000035  \n",
       "21218        0.000035  \n",
       "21219        0.000035  \n",
       "21216        0.000035  \n",
       "21217        0.000035  \n",
       "21220        0.000035  \n",
       "21221        0.000035  \n",
       "21222        0.000035  \n",
       "21223        0.000035  \n",
       "21224        0.000035  "
      ]
     },
     "execution_count": 80,
     "metadata": {},
     "output_type": "execute_result"
    }
   ],
   "source": [
    "wc.tail(10)"
   ]
  },
  {
   "cell_type": "code",
   "execution_count": 77,
   "metadata": {},
   "outputs": [
    {
     "data": {
      "text/plain": [
       "count    21225.000000\n",
       "mean         0.000544\n",
       "std          0.003826\n",
       "min          0.000035\n",
       "25%          0.000035\n",
       "50%          0.000071\n",
       "75%          0.000176\n",
       "max          0.253671\n",
       "Name: appears_in_pct, dtype: float64"
      ]
     },
     "execution_count": 77,
     "metadata": {},
     "output_type": "execute_result"
    }
   ],
   "source": [
    "wc['appears_in_pct'].describe()"
   ]
  },
  {
   "cell_type": "code",
   "execution_count": null,
   "metadata": {},
   "outputs": [],
   "source": [
    "# Frequency of appears in documents\n",
    "sns.distplot(wc['appears_in_pct']);"
   ]
  },
  {
   "cell_type": "code",
   "execution_count": null,
   "metadata": {},
   "outputs": [],
   "source": [
    "# Tree-Map w/ Words that appear in a least 98% of documents. \n"
   ]
  },
  {
   "cell_type": "markdown",
   "metadata": {},
   "source": [
    "## Challenge\n",
    "\n",
    "In the module project, you will apply stop word removal to a new corpus. You will focus on applying dictionary based stop word removal, but as a stretch goal, you should consider applying statistical stopword trimming. "
   ]
  },
  {
   "cell_type": "markdown",
   "metadata": {
    "toc-hr-collapsed": false
   },
   "source": [
    "# Stemming & Lemmatization (Learn)\n",
    "<a id=\"p3\"></a>"
   ]
  },
  {
   "cell_type": "markdown",
   "metadata": {
    "toc-hr-collapsed": false
   },
   "source": [
    "## Overview\n",
    "\n",
    "You can see from our example above there is still some normalization to do to get a clean analysis. You notice that there many words (*i.e.* 'batteries', 'battery') which share the same root word. We can use either the process of stemming or lemmatization to trim our words down to the 'root' word. \n",
    "\n",
    "__Section Agenda__:\n",
    "\n",
    "- Which is which\n",
    "- why use one v. other\n",
    "- show side by side visualizations \n",
    "- how to do it in spacy & nltk\n",
    "- introduce PoS in here as well"
   ]
  },
  {
   "cell_type": "markdown",
   "metadata": {
    "toc-hr-collapsed": false
   },
   "source": [
    "## Follow Along"
   ]
  },
  {
   "cell_type": "markdown",
   "metadata": {
    "toc-hr-collapsed": true
   },
   "source": [
    "### Stemming\n",
    "\n",
    "> *a process for removing the commoner morphological and inflexional endings from words in English. Its main use is as part of a term normalisation process that is usually done when setting up Information Retrieval systems.* - [Martin Porter](https://tartarus.org/martin/PorterStemmer/)\n",
    "\n",
    "Some examples include:\n",
    "- 'ing'\n",
    "- 'ed'\n",
    "- 's'\n",
    "\n",
    "These rules are by no means comprehensive, but they are somewhere to start. Most stemming is done by well documented algorithms such as Porter, Snowball, and Dawson. Porter and its newer version Snowball are the most popular stemming algorithms today. For more information on various stemming algorithms check out [*\"A Comparative Study of Stemming Algorithms\"*](https://pdfs.semanticscholar.org/1c0c/0fa35d4ff8a2f925eb955e48d655494bd167.pdf) \n",
    "\n",
    "\n",
    "Spacy does not do stemming out of the box, but instead uses a different technique called *lemmatization* which we will discuss in the next section. Let's turn to an antique python package `nltk` for stemming. "
   ]
  },
  {
   "cell_type": "code",
   "execution_count": null,
   "metadata": {},
   "outputs": [],
   "source": [
    "from nltk.stem import PorterStemmer\n",
    "\n",
    "ps = PorterStemmer()\n",
    "\n",
    "words = [\"is\",\"are\",\"be\",\"was\"]\n",
    "\n",
    "for word in words:\n",
    "    print(ps.stem(word))"
   ]
  },
  {
   "cell_type": "markdown",
   "metadata": {},
   "source": [
    "### Two Minute Challenge\n",
    "\n",
    "Apply the Porter stemming algorithm to the tokens in the `df` dataframe. Visualize the results in the tree graph we have been using for this session."
   ]
  },
  {
   "cell_type": "code",
   "execution_count": null,
   "metadata": {},
   "outputs": [],
   "source": [
    "# Put in a new column `stems`\n"
   ]
  },
  {
   "cell_type": "code",
   "execution_count": null,
   "metadata": {},
   "outputs": [],
   "source": [
    "wc = count(df['stems'])\n",
    "\n",
    "wc_top20 = wc[wc['rank'] <= 20]\n",
    "\n",
    "squarify.plot(sizes=wc_top20['pct_total'], label=wc_top20['word'], alpha=.8 )\n",
    "plt.axis('off')\n",
    "plt.show()"
   ]
  },
  {
   "cell_type": "markdown",
   "metadata": {
    "toc-hr-collapsed": false
   },
   "source": [
    "### Lemmatization\n",
    "\n",
    "You notice immediately that results are kinda funky - words just oddly chopped off. The Porter algorithm did exactly what it knows to do: chop off endings. Stemming works well in applications where humans don't have to worry about reading the results. Search engines and more broadly information retrival algorithms use stemming. Why? Becuase it's fast. \n",
    "\n",
    "Lemmatization on the other hand is more methodical. The goal is to transform a word into's base form called a lemma. Plural nouns with funky spellings get transformed to singular tense. Verbs are all transformed to the transitive. Nice tidy data for a visualization. :) However, this tidy data can come at computational cost. Spacy does a pretty freaking good job of it though. Let's take a look:"
   ]
  },
  {
   "cell_type": "code",
   "execution_count": null,
   "metadata": {},
   "outputs": [],
   "source": [
    "sent = \"This is the start of our NLP adventure. We started here with Spacy.\"\n",
    "\n",
    "doc = nlp(sent)\n",
    "\n",
    "# Lemma Attributes\n",
    "for token in doc: \n",
    "    print(token.lemma_)"
   ]
  },
  {
   "cell_type": "code",
   "execution_count": null,
   "metadata": {},
   "outputs": [],
   "source": [
    "# Wrap it all in a function\n",
    "def get_lemmas(text):\n",
    "\n",
    "    lemmas = []\n",
    "    \n",
    "    doc = nlp(text)\n",
    "    \n",
    "    # Something goes here :P\n",
    "    for token in doc: \n",
    "        if ((token.is_stop == False) and (token.is_punct == False)) and (token.pos_!= 'PRON'):\n",
    "            lemmas.append(token.lemma_)\n",
    "    \n",
    "    return lemmas"
   ]
  },
  {
   "cell_type": "code",
   "execution_count": null,
   "metadata": {},
   "outputs": [],
   "source": [
    "df['lemmas'] = df['reviews.text'].apply(get_lemmas)"
   ]
  },
  {
   "cell_type": "code",
   "execution_count": null,
   "metadata": {},
   "outputs": [],
   "source": [
    "df['lemmas'].head()"
   ]
  },
  {
   "cell_type": "code",
   "execution_count": null,
   "metadata": {},
   "outputs": [],
   "source": [
    "wc = count(df['lemmas'])\n",
    "wc_top20 = wc[wc['rank'] <= 20]\n",
    "\n",
    "squarify.plot(sizes=wc_top20['pct_total'], label=wc_top20['word'], alpha=.8 )\n",
    "plt.axis('off')\n",
    "plt.show()"
   ]
  },
  {
   "cell_type": "markdown",
   "metadata": {},
   "source": [
    "## Challenge\n",
    "\n",
    "You should know how to apply lemmatization with Spacy to a corpus of text. "
   ]
  },
  {
   "cell_type": "markdown",
   "metadata": {},
   "source": [
    "# Review\n",
    "\n",
    "In this module project, you've seen us apply Natural Language Processing techniques (tokenization, stopword removal, and lemmatization) to a corpus of Amazon text reviews. We analyzed those reviews using these techniques and discovered that Amazon customers are generally statisfied with the battery life of Amazon products and generally appear statisfied. \n",
    "\n",
    "You will apply similiar techniques to today's [module project assignment](LS_DS_411_Text_Data_Assignment.ipynb) to analyze coffee shop reviews from yelp. Remeber that the techniques of processing the text are just the begining. There are many ways to slice and dice the data. "
   ]
  },
  {
   "cell_type": "markdown",
   "metadata": {},
   "source": [
    "# Sources\n",
    "\n",
    "* Spacy 101 - https://course.spacy.io\n",
    "* NLTK Book - https://www.nltk.org/book/\n",
    "* An Introduction to Information Retrieval - https://nlp.stanford.edu/IR-book/pdf/irbookonlinereading.pdf"
   ]
  },
  {
   "cell_type": "markdown",
   "metadata": {
    "toc-hr-collapsed": true
   },
   "source": [
    "## Advanced Resources & Techniques\n",
    "- Named Entity Recognition (NER)\n",
    "- Dependcy Trees \n",
    "- Generators\n",
    "- the major libraries (NLTK, Spacy, Gensim)"
   ]
  }
 ],
 "metadata": {
  "kernelspec": {
   "display_name": "U4-S1-NLP (Python3)",
   "language": "python",
   "name": "u4-s1-nlp"
  },
  "language_info": {
   "codemirror_mode": {
    "name": "ipython",
    "version": 3
   },
   "file_extension": ".py",
   "mimetype": "text/x-python",
   "name": "python",
   "nbconvert_exporter": "python",
   "pygments_lexer": "ipython3",
   "version": "3.7.3"
  },
  "toc-autonumbering": false,
  "toc-showcode": false,
  "toc-showmarkdowntxt": false
 },
 "nbformat": 4,
 "nbformat_minor": 4
}
